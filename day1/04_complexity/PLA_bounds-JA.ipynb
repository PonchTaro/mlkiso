{
 "cells": [
  {
   "cell_type": "markdown",
   "metadata": {},
   "source": [
    "# PLAの性能保証：理論と現実\n",
    "\n",
    "演習課題の内容は、`PLA_bounds-JA.pdf`を参照すること。"
   ]
  },
  {
   "cell_type": "code",
   "execution_count": 1,
   "metadata": {},
   "outputs": [],
   "source": [
    "import math\n",
    "import numpy as np\n",
    "import matplotlib.pyplot as plt\n",
    "\n",
    "import data_perceptron_generic\n",
    "import algo_PLA\n",
    "import algo_PLA_pocket\n",
    "import model_perceptron\n",
    "\n",
    "_fontsize = \"xx-large\""
   ]
  },
  {
   "cell_type": "markdown",
   "metadata": {},
   "source": [
    "## 過剰期待損失の分布\n",
    "\n",
    "### 汎化誤差の上界を用いる\n",
    "\n",
    "複雑度に基づく期待損失の上界を思い出すと、学習アルゴリズムを実行した結果として得られる$\\,\\widehat{h}\\in \\mathcal{H}\\,$に対して、$\\,(1-\\delta)\\,$以上の確率で、下記が成り立つ。\n",
    "\n",
    "\\begin{align*}\n",
    "R(\\widehat{h}) - \\widehat{R}(\\widehat{h}) \\leq + \\sqrt{\\frac{8}{n}\\log\\left(\\frac{4((2n)^{d_{\\text{VC}}(\\mathcal{H})}+1)}{\\delta}\\right)}\n",
    "\\end{align*}\n",
    "\n",
    "ここで$\\,d_{\\text{VC}}(\\mathcal{H})\\,$はモデル$\\,\\mathcal{H}\\,$のVC次元である。\n",
    "\n",
    "また、この左辺を「__過剰リスク__」もしくは「__過剰期待損失__」と呼ぶ。英語でexcess riskという。\n",
    "\n",
    "### パーセプトロンの過剰リスク\n",
    "\n",
    "線形パーセプトロンの場合を考えると以下のようになる。\n",
    "\n",
    "\\begin{align*}\n",
    "\\mathcal{H} = \\left\\{h: h(\\mathbf{x}) = \\text{sign}\\left(\\mathbf{w}^{T}\\mathbf{x}-w_{0}\\right)\\right\\}\n",
    "\\end{align*}\n",
    "\n",
    "このとき、VC次元が以下のようになることが知られている。\n",
    "\n",
    "\\begin{align*}\n",
    "d_{\\text{VC}}(\\mathcal{H}) = d+1\n",
    "\\end{align*}\n",
    "\n",
    "この$\\,d\\,$とは、入力ベクトル$\\,\\mathbf{x}\\,$の次元である。\n",
    "\n",
    "この上界を計算するための関数`err_gen_VC_perceptron`を以下のように定義する。"
   ]
  },
  {
   "cell_type": "code",
   "execution_count": 2,
   "metadata": {},
   "outputs": [],
   "source": [
    "def err_gen_VC_perceptron(n, d, delta):\n",
    "    d_vc = d+1\n",
    "    n_factor = 8 / n\n",
    "    log_factor = math.log(4)+d_vc*math.log(2*n)+1-math.log(delta)\n",
    "    return np.sqrt(n_factor*log_factor)"
   ]
  },
  {
   "cell_type": "markdown",
   "metadata": {},
   "source": [
    "#### 関数の補足説明\n",
    "\n",
    "数値計算の問題として、$\\log$に入る数量が相当大きくなりうる。オーバーフロー対策として、簡単な上界による近似を用いることにする。まず、$x > 0$に対して$\\log(x)$の一階微分が$1/x$であるため、対数関数の勾配が、$x \\geq 1$の範囲において、$1$以下であることがわかる。このLipschitz連続性を利用すると、\n",
    "\n",
    "\\begin{align*}\n",
    "\\left|\\log(1+x) - \\log(x)\\right| \\leq 1, \\text{ for all } x \\geq 1\n",
    "\\end{align*}\n",
    "\n",
    "つまり、\n",
    "\n",
    "\\begin{align*}\n",
    "\\log(1+x) \\leq \\log(x)+1\n",
    "\\end{align*}\n",
    "\n",
    "という上界を、$x \\geq 1$のときに使うことができる。元の汎化誤差の話に戻ると、ログの部分を次のように近似できる。\n",
    "\n",
    "\\begin{align*}\n",
    "\\log\\left( \\frac{4((2n)^{d_{\\text{VC}}}+1)}{\\delta} \\right) & = \\log(4) + \\log\\left((2n)^{d_{\\text{VC}}}+1\\right) - \\log(\\delta)\\\\\n",
    "& \\leq \\log(4) +  d_{\\text{VC}}\\log\\left(2n\\right) + 1 - \\log(\\delta).\n",
    "\\end{align*}\n",
    "\n",
    "上記の計算方法を、`err_gen_VC_perceptron`のなかで利用している。"
   ]
  },
  {
   "cell_type": "markdown",
   "metadata": {},
   "source": [
    "#### PLAを走らせて過剰リスク分布を見る\n",
    "\n",
    "以下のコードブロックでは、次のような操作をしている。\n",
    "\n",
    "- 複数の試行にわたって、データを独立に生成し、PLAをひと通り走らせ、標本内外の識別率を記録している。\n",
    "\n",
    "- 過剰リスクを近似的に計算し、その分布をヒストグラムで可視化している。\n",
    "\n",
    "- さらに、過剰リスクの分布に基づいて、その$\\,(1-\\delta)\\,$の分位値を計算し、ヒストグラムとともに表示している。\n",
    "\n",
    "- さらに、パーセプトロンモデルのVC次元に基づく過剰リスクの上界を計算し、ヒストグラムとともに表示している。\n",
    "\n",
    "- 最後に、過剰リスクではなく、リスク自体、つまり期待損失そのものの分布をヒストグラムで可視化し、その$\\,(1-\\delta)\\,$の分位値も併せて表示している。\n"
   ]
  },
  {
   "cell_type": "code",
   "execution_count": 3,
   "metadata": {},
   "outputs": [],
   "source": [
    "_n_tr = 500\n",
    "_n_te = _n_tr * 100\n",
    "_d = 2\n",
    "_delta = 0.1\n",
    "_num_trials = 5000\n",
    "_t_max = 25"
   ]
  },
  {
   "cell_type": "code",
   "execution_count": 4,
   "metadata": {},
   "outputs": [],
   "source": [
    "err_gen = err_gen_VC_perceptron(n=_n_tr, d=_d, delta=_delta)\n",
    "\n",
    "perf = np.zeros((_num_trials,2), dtype=np.float32)\n",
    "\n",
    "for tri in range(_num_trials):\n",
    "    \n",
    "    data = data_perceptron_generic.gen(n_tr=_n_tr, n_te=_n_te, d=_d)\n",
    "    \n",
    "    w_init = np.random.uniform(low=-0.05, high=0.05, size=(data.d_tr,1))\n",
    "    \n",
    "    algo = algo_PLA.PLA(w_init=w_init, t_max=_t_max)\n",
    "    model = model_perceptron.Perceptron()\n",
    "    \n",
    "    for onestep in algo:\n",
    "        algo.update(model=model, data=data)\n",
    "        \n",
    "    perf[tri,0] = np.mean(model.l_tr(w=algo.w, data=data))\n",
    "    perf[tri,1] = np.mean(model.l_te(w=algo.w, data=data))\n",
    "    "
   ]
  },
  {
   "cell_type": "code",
   "execution_count": 5,
   "metadata": {},
   "outputs": [],
   "source": [
    "risk = perf[:,1]\n",
    "emp_risk = perf[:,0]\n",
    "excess_risk = risk-emp_risk"
   ]
  },
  {
   "cell_type": "code",
   "execution_count": 6,
   "metadata": {},
   "outputs": [
    {
     "data": {
      "image/png": "[encoded data removed]",
      "text/plain": [
       "<Figure size 432x288 with 1 Axes>"
      ]
     },
     "metadata": {
      "needs_background": "light"
     },
     "output_type": "display_data"
    },
    {
     "data": {
      "image/png": "[encoded data removed]",
      "text/plain": [
       "<Figure size 432x288 with 1 Axes>"
      ]
     },
     "metadata": {
      "needs_background": "light"
     },
     "output_type": "display_data"
    },
    {
     "data": {
      "image/png": "[encoded data removed]",
      "text/plain": [
       "<Figure size 432x288 with 1 Axes>"
      ]
     },
     "metadata": {
      "needs_background": "light"
     },
     "output_type": "display_data"
    }
   ],
   "source": [
    "plt.hist(excess_risk, bins='auto')\n",
    "plt.axvline(x=np.percentile(a=excess_risk, q=100*(1-_delta)),\n",
    "            color=\"red\")\n",
    "plt.title(\"Excess risk (with quantile)\", size=_fontsize)\n",
    "plt.tick_params(labelsize=_fontsize)\n",
    "plt.show()\n",
    "\n",
    "plt.hist(excess_risk, bins='auto')\n",
    "plt.axvline(x=np.percentile(a=excess_risk, q=100*(1-_delta)),\n",
    "            color=\"red\")\n",
    "plt.axvline(x=err_gen, color=\"magenta\")\n",
    "plt.title(\"Excess risk (with quantile and VC bound)\", size=_fontsize)\n",
    "plt.tick_params(labelsize=_fontsize)\n",
    "plt.show()\n",
    "\n",
    "plt.hist(risk, bins='auto')\n",
    "plt.axvline(x=np.percentile(a=risk, q=100*(1-_delta)),\n",
    "            color=\"red\")\n",
    "plt.title(\"Risk (with quantile)\", size=_fontsize)\n",
    "plt.tick_params(labelsize=_fontsize)\n",
    "plt.show()"
   ]
  },
  {
   "cell_type": "markdown",
   "metadata": {},
   "source": [
    "___"
   ]
  },
  {
   "cell_type": "markdown",
   "metadata": {},
   "source": [
    "## 過剰リスクの裾の上界\n",
    "\n",
    "まず、先ほどの期待損失の上界から、下記を直接導き出すことができる。\n",
    "\n",
    "\\begin{align*}\n",
    "\\mathbf{P}\\left\\{R(\\widehat{h}) - \\widehat{R}(\\widehat{h}) > \\epsilon\\right\\} \\leq 4\\left((2n)^{d_{\\text{VC}}(\\mathcal{H})}+1\\right)\\exp\\left(-\\frac{\\epsilon^{2}n}{8}\\right).\n",
    "\\end{align*}\n",
    "\n",
    "これを実装した関数は下記の通りである。"
   ]
  },
  {
   "cell_type": "code",
   "execution_count": 7,
   "metadata": {},
   "outputs": [],
   "source": [
    "def tail_gen_VC_perceptron(n, d, epsilon):\n",
    "    d_vc = d+1\n",
    "    return 4*((2*n)**d_vc+1) * np.exp(-(n*epsilon**2)/8)"
   ]
  },
  {
   "cell_type": "code",
   "execution_count": 8,
   "metadata": {
    "scrolled": false
   },
   "outputs": [],
   "source": [
    "epsilon_vals =  np.linspace(start=0.01, stop=0.3, num=500)\n",
    "\n",
    "vc_vals = tail_gen_VC_perceptron(n=_n_tr, d=_d, epsilon=epsilon_vals)\n",
    "\n",
    "perf_tail = np.zeros((epsilon_vals.size,), dtype=np.float32)\n",
    "\n",
    "for i in range(epsilon_vals.size):\n",
    "    \n",
    "    epsilon = epsilon_vals[i]\n",
    "    \n",
    "    check_tail = perf[:,1]-perf[:,0] > epsilon\n",
    "    \n",
    "    perf_tail[i] = np.sum(check_tail) / check_tail.size\n"
   ]
  },
  {
   "cell_type": "code",
   "execution_count": 9,
   "metadata": {},
   "outputs": [
    {
     "data": {
      "image/png": "[encoded data removed]",
      "text/plain": [
       "<Figure size 432x432 with 1 Axes>"
      ]
     },
     "metadata": {},
     "output_type": "display_data"
    }
   ],
   "source": [
    "myfig = plt.figure(figsize=(6,6))\n",
    "\n",
    "ax = myfig.add_subplot(1,1,1)\n",
    "plt.title(\"Excess risk probability\", size=_fontsize)\n",
    "ax.semilogy(epsilon_vals, perf_tail, \"-\", color=\"blue\", label=\"PLA actual\")\n",
    "ax.semilogy(epsilon_vals, vc_vals, \"--\", color=\"black\", label=\"VC bound\")\n",
    "ax.legend(loc=\"best\",ncol=1, fontsize=_fontsize)\n",
    "plt.xlabel(\"Deviation level (epsilon)\", size=_fontsize)\n",
    "ax.tick_params(labelsize=_fontsize)\n",
    "\n",
    "plt.show()"
   ]
  },
  {
   "cell_type": "markdown",
   "metadata": {},
   "source": [
    "## 標本複雑度の上界\n",
    "\n",
    "汎化誤差を$\\epsilon$以下に抑えるには、以下を満たせば十分である。\n",
    "\n",
    "\\begin{align*}\n",
    "n \\geq \\frac{8}{\\epsilon^{2}}\\log\\left( \\frac{4((2n)^{d_{\\text{VC}}}+1)}{\\delta} \\right)\n",
    "\\end{align*}\n",
    "\n",
    "この下界を実装したのが下記の`sample_VC_perceptron`である。"
   ]
  },
  {
   "cell_type": "code",
   "execution_count": 10,
   "metadata": {},
   "outputs": [],
   "source": [
    "def sample_VC_perceptron(n, d, delta, epsilon):\n",
    "    d_vc = d+1\n",
    "    eps_factor = 8 / epsilon**2\n",
    "    log_factor = math.log(4)+d_vc*math.log(2*n)+1-math.log(delta)\n",
    "    return eps_factor*log_factor"
   ]
  },
  {
   "cell_type": "markdown",
   "metadata": {},
   "source": [
    "上記の標本複雑度の上界は、$\\,n\\,$に対して陰である。幸い、不動点を使って、反復的に計算することが簡単にできる。この不等式の右辺を$\\,f(n)\\,$と書くと、以下の演算、\n",
    "\n",
    "\\begin{align*}\n",
    "n_{(t+1)} \\gets f(n_{(t)})\n",
    "\\end{align*}\n",
    "\n",
    "を繰り返して行うと、関数（＝下界）の不動点の良い近似を得ることができる。この不動点をたとえば$\\,n_{\\text{fix}}\\,$と書くことにする。定義上、$\\,f(n_{\\text{fix}})=n_{\\text{fix}}\\,$が成り立つので、どの$\\,n \\geq n_{\\text{fix}}\\,$を取っても、単調性により$\\,n \\geq f(n)\\,$を満たすことになる。\n",
    "\n",
    "下界を反復的に計算してみる。収束が速いことは一目瞭然である。"
   ]
  },
  {
   "cell_type": "code",
   "execution_count": 11,
   "metadata": {},
   "outputs": [],
   "source": [
    "_n0 = 500\n",
    "_delta = 0.1\n",
    "_epsilon = 0.1\n",
    "_d = 3"
   ]
  },
  {
   "cell_type": "code",
   "execution_count": 12,
   "metadata": {},
   "outputs": [
    {
     "name": "stdout",
     "output_type": "stream",
     "text": [
      "ncheck = 500\n",
      "ncheck = 25855.920456033986\n",
      "ncheck = 38482.1181727442\n",
      "ncheck = 39754.61117895145\n",
      "ncheck = 39858.71411822344\n",
      "ncheck = 39867.0828076179\n",
      "ncheck = 39867.75460538458\n",
      "ncheck = 39867.80852793395\n",
      "ncheck = 39867.8128560443\n",
      "ncheck = 39867.813203441176\n"
     ]
    }
   ],
   "source": [
    "ncheck = _n0\n",
    "for i in range(10):\n",
    "    print(\"ncheck =\", ncheck)\n",
    "    ncheck = sample_VC_perceptron(n=ncheck, d=_d,\n",
    "                                  delta=_delta, epsilon=_epsilon)"
   ]
  },
  {
   "cell_type": "markdown",
   "metadata": {},
   "source": [
    "続いて、この値が$d_{\\text{VC}}$の増加によってどう変わるか調べる。"
   ]
  },
  {
   "cell_type": "code",
   "execution_count": 13,
   "metadata": {},
   "outputs": [],
   "source": [
    "d_vals = np.arange(2, 30, 1)\n",
    "n_vals = []\n",
    "for d_val in d_vals:\n",
    "    n_check = _n0\n",
    "    for i in range(50):\n",
    "        n_check = sample_VC_perceptron(n=n_check, d=d_val,\n",
    "                                       delta=0.1, epsilon=0.1)\n",
    "    n_vals += [n_check]\n",
    "n_vals = np.array(n_vals)"
   ]
  },
  {
   "cell_type": "code",
   "execution_count": 14,
   "metadata": {},
   "outputs": [
    {
     "name": "stdout",
     "output_type": "stream",
     "text": [
      "Ratio of sample complexity to d_vc:\n",
      "[10056.55976023  9966.95330844  9957.12359783  9979.76076512\n",
      " 10016.7271532  10060.01833628 10105.77668152 10152.0401463\n",
      " 10197.78395024 10242.47378812 10285.84264061 10327.77315122\n",
      " 10368.23298839 10407.23815017 10444.83161248 10481.07068714\n",
      " 10516.01946022 10549.74425972 10582.31096093 10613.78342108\n",
      " 10644.22261354 10673.68619661 10702.22835162 10729.89978558\n",
      " 10756.74783243 10782.81661013 10808.14720696 10832.77787978]\n"
     ]
    }
   ],
   "source": [
    "print(\"Ratio of sample complexity to d_vc:\")\n",
    "print(n_vals/(d_vals+1))"
   ]
  },
  {
   "cell_type": "markdown",
   "metadata": {},
   "source": [
    "上記の簡単な計算結果を踏まえて、理論の上では、$n \\approx 10000\\,d_{\\text{VC}}$があれば、汎化能力は保証できる($\\epsilon = 0.1,\\delta=0.1$のとき)。しかし、この計算の元となる上界が緩いことはすでに見ているので、実際には、より少ない標本数でも大丈夫であろうと期待するところである。\n",
    "\n",
    "以下の実験で、実際にどの程度のデータがあれば良いか調べてみる。"
   ]
  },
  {
   "cell_type": "code",
   "execution_count": 15,
   "metadata": {},
   "outputs": [],
   "source": [
    "_k_factors = np.array([1, 10, 100, 1000, 10000])\n",
    "_n_te = 50000\n",
    "_num_trials = 500\n",
    "_t_max = 20"
   ]
  },
  {
   "cell_type": "code",
   "execution_count": 16,
   "metadata": {},
   "outputs": [
    {
     "name": "stdout",
     "output_type": "stream",
     "text": [
      "Working on k = 1\n",
      "Working on k = 10\n",
      "Working on k = 100\n",
      "Working on k = 1000\n",
      "Working on k = 10000\n"
     ]
    }
   ],
   "source": [
    "perf_quantiles = np.zeros((_k_factors.size,), dtype=np.float32)\n",
    "\n",
    "for i in range(_k_factors.size):\n",
    "    \n",
    "    print(\"Working on k =\", _k_factors[i])\n",
    "    \n",
    "    n_tr = _k_factors[i] * (_d+1)\n",
    "    \n",
    "    perf = np.zeros((_num_trials,2), dtype=np.float32)\n",
    "\n",
    "    for tri in range(_num_trials):\n",
    "        \n",
    "        data = data_perceptron_generic.gen(n_tr=n_tr, n_te=_n_te, d=_d)\n",
    "        \n",
    "        w_init = np.random.uniform(low=-0.05, high=0.05, size=(data.d_tr,1))\n",
    "        \n",
    "        algo = algo_PLA.PLA(w_init=w_init, t_max=_t_max)\n",
    "        model = model_perceptron.Perceptron()\n",
    "    \n",
    "        for onestep in algo:\n",
    "            algo.update(model=model, data=data)\n",
    "        \n",
    "        perf[tri,0] = np.mean(model.l_tr(w=algo.w, data=data))\n",
    "        perf[tri,1] = np.mean(model.l_te(w=algo.w, data=data))\n",
    "    \n",
    "    perf_quantiles[i] = np.percentile(a=(perf[:,1]-perf[:,0]),\n",
    "                                      q=(100*(1-_delta)))"
   ]
  },
  {
   "cell_type": "code",
   "execution_count": 17,
   "metadata": {},
   "outputs": [
    {
     "data": {
      "image/png": "[encoded data removed]",
      "text/plain": [
       "<Figure size 432x432 with 1 Axes>"
      ]
     },
     "metadata": {},
     "output_type": "display_data"
    }
   ],
   "source": [
    "myfig = plt.figure(figsize=(6,6))\n",
    "\n",
    "ax = myfig.add_subplot(1,1,1)\n",
    "plt.title(\"(1-delta) quantiles of excess risk\", size=_fontsize)\n",
    "ax.semilogx(_d*_k_factors, perf_quantiles, marker=\"o\")\n",
    "plt.axhline(y=_epsilon, color=\"red\")\n",
    "plt.xlabel(\"Sample size\", size=_fontsize)\n",
    "ax.tick_params(labelsize=_fontsize)\n",
    "\n",
    "plt.show()"
   ]
  },
  {
   "cell_type": "markdown",
   "metadata": {},
   "source": [
    "この数値実験の結果は明白である。理論が担保するように、たとえば$n \\approx 10^{4}\\,d_{\\text{VC}}$を取れば、$90\\%$の確率で誤差$\\epsilon=0.1$という汎化能力は確かに保証できるのだが、これは必要以上である。実際、$n \\approx 10\\,d_{\\text{VC}}$があれば十分という実験結果である。"
   ]
  },
  {
   "cell_type": "markdown",
   "metadata": {},
   "source": [
    "___"
   ]
  }
 ],
 "metadata": {
  "kernelspec": {
   "display_name": "Python 3",
   "language": "python",
   "name": "python3"
  },
  "language_info": {
   "codemirror_mode": {
    "name": "ipython",
    "version": 3
   },
   "file_extension": ".py",
   "mimetype": "text/x-python",
   "name": "python",
   "nbconvert_exporter": "python",
   "pygments_lexer": "ipython3",
   "version": "3.8.2"
  }
 },
 "nbformat": 4,
 "nbformat_minor": 2
}
